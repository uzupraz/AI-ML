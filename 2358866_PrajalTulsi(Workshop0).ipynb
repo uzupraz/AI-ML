{
  "nbformat": 4,
  "nbformat_minor": 0,
  "metadata": {
    "colab": {
      "provenance": [],
      "collapsed_sections": [
        "_lHKK-IYvFRU",
        "nPBkNM7ZxbWO",
        "08ArRNw3WRRK",
        "oWh3SQf0lP0t",
        "PH8k30IUqonM"
      ]
    },
    "kernelspec": {
      "name": "python3",
      "display_name": "Python 3"
    },
    "language_info": {
      "name": "python"
    }
  },
  "cells": [
    {
      "cell_type": "markdown",
      "source": [
        "#Worksheet 0"
      ],
      "metadata": {
        "id": "HmlzwRP7tlJG"
      }
    },
    {
      "cell_type": "code",
      "execution_count": 25,
      "metadata": {
        "id": "4jpW4aLksfQw"
      },
      "outputs": [],
      "source": [
        "import numpy as np\n",
        "import time"
      ]
    },
    {
      "cell_type": "markdown",
      "source": [
        "##Problem 1: Array Creation"
      ],
      "metadata": {
        "id": "_lHKK-IYvFRU"
      }
    },
    {
      "cell_type": "code",
      "source": [
        "empty_array = np.empty((2, 2)) # Empty array with garbage value\n",
        "empty_array"
      ],
      "metadata": {
        "colab": {
          "base_uri": "https://localhost:8080/"
        },
        "id": "IghEv9ZhuSW2",
        "outputId": "6346cf73-655e-4486-8876-aa68430e9b2e"
      },
      "execution_count": 26,
      "outputs": [
        {
          "output_type": "execute_result",
          "data": {
            "text/plain": [
              "array([[1., 0.],\n",
              "       [0., 1.]])"
            ]
          },
          "metadata": {},
          "execution_count": 26
        }
      ]
    },
    {
      "cell_type": "code",
      "source": [
        "zeros_array = np.zeros((2, 2)) # Array with only zeros\n",
        "zeros_array"
      ],
      "metadata": {
        "colab": {
          "base_uri": "https://localhost:8080/"
        },
        "id": "6ED3VzQwuhes",
        "outputId": "c0fc646a-ea68-4863-8609-b1967656e172"
      },
      "execution_count": 27,
      "outputs": [
        {
          "output_type": "execute_result",
          "data": {
            "text/plain": [
              "array([[0., 0.],\n",
              "       [0., 0.]])"
            ]
          },
          "metadata": {},
          "execution_count": 27
        }
      ]
    },
    {
      "cell_type": "code",
      "source": [
        "filled_array = np.full((2, 2), 5) # Creating an array with all values 5\n",
        "filled_array"
      ],
      "metadata": {
        "colab": {
          "base_uri": "https://localhost:8080/"
        },
        "id": "xss1mQBmuoM6",
        "outputId": "c161082b-9dd5-41da-ee4a-7305ac7e7b2e"
      },
      "execution_count": 28,
      "outputs": [
        {
          "output_type": "execute_result",
          "data": {
            "text/plain": [
              "array([[5, 5],\n",
              "       [5, 5]])"
            ]
          },
          "metadata": {},
          "execution_count": 28
        }
      ]
    },
    {
      "cell_type": "markdown",
      "source": [
        "###2. Initializing all one array (4 * 2)"
      ],
      "metadata": {
        "id": "5feXdI26vDqe"
      }
    },
    {
      "cell_type": "code",
      "source": [
        "ones_array = np.ones((4, 2), dtype=int) # Creating array with ones set as an int and not float (default)\n",
        "ones_array"
      ],
      "metadata": {
        "colab": {
          "base_uri": "https://localhost:8080/"
        },
        "id": "YK32JemAu0G1",
        "outputId": "a153b87c-e872-4bd8-c188-64f428a5cfbe"
      },
      "execution_count": 29,
      "outputs": [
        {
          "output_type": "execute_result",
          "data": {
            "text/plain": [
              "array([[1, 1],\n",
              "       [1, 1],\n",
              "       [1, 1],\n",
              "       [1, 1]])"
            ]
          },
          "metadata": {},
          "execution_count": 29
        }
      ]
    },
    {
      "cell_type": "code",
      "source": [
        "filled_array = np.full((4, 2), 1)\n",
        "filled_array"
      ],
      "metadata": {
        "colab": {
          "base_uri": "https://localhost:8080/"
        },
        "id": "fcxdtD59vUx8",
        "outputId": "eb038cb8-8958-4d48-935b-2670052845c7"
      },
      "execution_count": 30,
      "outputs": [
        {
          "output_type": "execute_result",
          "data": {
            "text/plain": [
              "array([[1, 1],\n",
              "       [1, 1],\n",
              "       [1, 1],\n",
              "       [1, 1]])"
            ]
          },
          "metadata": {},
          "execution_count": 30
        }
      ]
    },
    {
      "cell_type": "markdown",
      "source": [
        "###3. New Array of Given Shape and type filled with fill value"
      ],
      "metadata": {
        "id": "6GTqMzNhvqA0"
      }
    },
    {
      "cell_type": "markdown",
      "source": [],
      "metadata": {
        "id": "OtAdvZgTW_96"
      }
    },
    {
      "cell_type": "code",
      "source": [
        "filled_array = np.full((4, 4), 9, dtype=int) # Creating a 4 * 4 array with int values 9\n",
        "filled_array"
      ],
      "metadata": {
        "colab": {
          "base_uri": "https://localhost:8080/"
        },
        "id": "ar5bOe4Qv14a",
        "outputId": "9cde5b36-8ef0-4e5e-8c9c-93a648537348"
      },
      "execution_count": 31,
      "outputs": [
        {
          "output_type": "execute_result",
          "data": {
            "text/plain": [
              "array([[9, 9, 9, 9],\n",
              "       [9, 9, 9, 9],\n",
              "       [9, 9, 9, 9],\n",
              "       [9, 9, 9, 9]])"
            ]
          },
          "metadata": {},
          "execution_count": 31
        }
      ]
    },
    {
      "cell_type": "markdown",
      "source": [
        "###4. New array of zeros with same shape and type as given array"
      ],
      "metadata": {
        "id": "De-1ZrLQwPTh"
      }
    },
    {
      "cell_type": "code",
      "source": [
        "array = np.full((4, 4), 8) # Creating an array with values 8\n",
        "new_array = np.zeros_like(array) # Creating new array of same dimension as array with 0s.\n",
        "new_array"
      ],
      "metadata": {
        "colab": {
          "base_uri": "https://localhost:8080/"
        },
        "id": "8TfNOjgxwVr9",
        "outputId": "6288b009-2649-409b-ae26-694c142eb720"
      },
      "execution_count": 32,
      "outputs": [
        {
          "output_type": "execute_result",
          "data": {
            "text/plain": [
              "array([[0, 0, 0, 0],\n",
              "       [0, 0, 0, 0],\n",
              "       [0, 0, 0, 0],\n",
              "       [0, 0, 0, 0]])"
            ]
          },
          "metadata": {},
          "execution_count": 32
        }
      ]
    },
    {
      "cell_type": "markdown",
      "source": [
        "###5. New array of ones with same shape and type as given array"
      ],
      "metadata": {
        "id": "oCfy_0p6wpcV"
      }
    },
    {
      "cell_type": "code",
      "source": [
        "original_array = np.full((4, 3), 8)\n",
        "ones_like_array = np.ones_like(original_array)\n",
        "ones_like_array"
      ],
      "metadata": {
        "colab": {
          "base_uri": "https://localhost:8080/"
        },
        "id": "0YVB2p_Tw8ti",
        "outputId": "26585ba4-7b04-4dc8-82af-a7e9c4f47336"
      },
      "execution_count": 33,
      "outputs": [
        {
          "output_type": "execute_result",
          "data": {
            "text/plain": [
              "array([[1, 1, 1],\n",
              "       [1, 1, 1],\n",
              "       [1, 1, 1],\n",
              "       [1, 1, 1]])"
            ]
          },
          "metadata": {},
          "execution_count": 33
        }
      ]
    },
    {
      "cell_type": "markdown",
      "source": [
        "###6. Convert to NumPy array"
      ],
      "metadata": {
        "id": "2kM0RDBkxDqq"
      }
    },
    {
      "cell_type": "code",
      "source": [
        "my_list = [1, 2, 3, 4]\n",
        "numpy_array = np.array(my_list)\n",
        "print(\"Normal List: \", my_list)\n",
        "print(\"Numpy List: \", numpy_array)"
      ],
      "metadata": {
        "colab": {
          "base_uri": "https://localhost:8080/"
        },
        "id": "VxfYhls4xHtI",
        "outputId": "64d0bf48-ad50-44b5-ed5d-1c64882ed288"
      },
      "execution_count": 34,
      "outputs": [
        {
          "output_type": "stream",
          "name": "stdout",
          "text": [
            "Normal List:  [1, 2, 3, 4]\n",
            "Numpy List:  [1 2 3 4]\n"
          ]
        }
      ]
    },
    {
      "cell_type": "markdown",
      "source": [
        "##Problem - 2: Array Manipulation: Numerical Ranges and Array Indexing"
      ],
      "metadata": {
        "id": "nPBkNM7ZxbWO"
      }
    },
    {
      "cell_type": "markdown",
      "source": [
        "###1. Create an array with values ranging from 10 to 49"
      ],
      "metadata": {
        "id": "tvT0AZMSyCpO"
      }
    },
    {
      "cell_type": "code",
      "source": [
        "range_array = np.arange(10, 50)\n",
        "range_array"
      ],
      "metadata": {
        "colab": {
          "base_uri": "https://localhost:8080/"
        },
        "id": "cyJQwTDUxaJO",
        "outputId": "6f890a13-3b4d-4dcc-b06e-7c1b62bdfebd"
      },
      "execution_count": 35,
      "outputs": [
        {
          "output_type": "execute_result",
          "data": {
            "text/plain": [
              "array([10, 11, 12, 13, 14, 15, 16, 17, 18, 19, 20, 21, 22, 23, 24, 25, 26,\n",
              "       27, 28, 29, 30, 31, 32, 33, 34, 35, 36, 37, 38, 39, 40, 41, 42, 43,\n",
              "       44, 45, 46, 47, 48, 49])"
            ]
          },
          "metadata": {},
          "execution_count": 35
        }
      ]
    },
    {
      "cell_type": "markdown",
      "source": [
        "###2. Create a 3X3 matrix with values ranging from 0 to 8"
      ],
      "metadata": {
        "id": "Y-M5n2shy1ad"
      }
    },
    {
      "cell_type": "code",
      "source": [
        "array = np.arange(0, 9)\n",
        "reshaped = np.reshape(array, (3, 3))\n",
        "print(array)\n",
        "print(reshaped)"
      ],
      "metadata": {
        "colab": {
          "base_uri": "https://localhost:8080/"
        },
        "id": "9Kxd1jnVyNYl",
        "outputId": "59b09e1d-bf62-4fc6-d600-18a7b0da4122"
      },
      "execution_count": 36,
      "outputs": [
        {
          "output_type": "stream",
          "name": "stdout",
          "text": [
            "[0 1 2 3 4 5 6 7 8]\n",
            "[[0 1 2]\n",
            " [3 4 5]\n",
            " [6 7 8]]\n"
          ]
        }
      ]
    },
    {
      "cell_type": "markdown",
      "source": [
        "###3. Create a 3*3 identity matrix"
      ],
      "metadata": {
        "id": "Tao14ESa0dVu"
      }
    },
    {
      "cell_type": "code",
      "source": [
        "array = np.eye(3, dtype=int)\n",
        "array"
      ],
      "metadata": {
        "colab": {
          "base_uri": "https://localhost:8080/"
        },
        "id": "4uX8om2H0c_W",
        "outputId": "27f1e260-38d1-45d9-f64a-1d8507268513"
      },
      "execution_count": 37,
      "outputs": [
        {
          "output_type": "execute_result",
          "data": {
            "text/plain": [
              "array([[1, 0, 0],\n",
              "       [0, 1, 0],\n",
              "       [0, 0, 1]])"
            ]
          },
          "metadata": {},
          "execution_count": 37
        }
      ]
    },
    {
      "cell_type": "markdown",
      "source": [
        "###4. Random Array Size 30 and Mean"
      ],
      "metadata": {
        "id": "LW9MdaH_02pa"
      }
    },
    {
      "cell_type": "code",
      "source": [
        "random_arr = np.random.random(30)\n",
        "\n",
        "mean_val = random_arr.mean()\n",
        "\n",
        "print(random_arr)\n",
        "print(\"Mean: \", mean_val)"
      ],
      "metadata": {
        "colab": {
          "base_uri": "https://localhost:8080/"
        },
        "id": "l4ULKFSd0xLi",
        "outputId": "912537fb-9522-4f2f-e211-5c600827a7c0"
      },
      "execution_count": 38,
      "outputs": [
        {
          "output_type": "stream",
          "name": "stdout",
          "text": [
            "[0.19087208 0.58150565 0.850757   0.77994906 0.50028572 0.9417603\n",
            " 0.21729768 0.31129482 0.4413304  0.92353189 0.8554683  0.82054767\n",
            " 0.59078046 0.1457819  0.63428475 0.11738072 0.19421237 0.44186146\n",
            " 0.60415457 0.74702525 0.75367501 0.24132851 0.28780831 0.93221686\n",
            " 0.30054468 0.14020806 0.3513195  0.04407816 0.69384376 0.37198895]\n",
            "Mean:  0.5002364618428409\n"
          ]
        }
      ]
    },
    {
      "cell_type": "markdown",
      "source": [
        "###5. Create a 10X10 array with random values and find the minimum and maximum values"
      ],
      "metadata": {
        "id": "qRxQIR5L3BwW"
      }
    },
    {
      "cell_type": "code",
      "source": [
        "# random_arr = np.random.random((10, 10))\n",
        "random_arr = np.random.randint(1, 10, (10, 10))\n",
        "min = random_arr.min()\n",
        "max = random_arr.max()\n",
        "\n",
        "print(random_arr)\n",
        "print(\"Min: \", min)\n",
        "print(\"Max: \", max)"
      ],
      "metadata": {
        "colab": {
          "base_uri": "https://localhost:8080/"
        },
        "id": "bRPeMC8w3BUa",
        "outputId": "1dfbcc4f-6a94-4335-d859-cf2a0e2f21cf"
      },
      "execution_count": 39,
      "outputs": [
        {
          "output_type": "stream",
          "name": "stdout",
          "text": [
            "[[5 5 8 6 8 4 1 4 3 3]\n",
            " [4 1 2 6 6 7 8 6 6 6]\n",
            " [2 9 4 2 4 9 8 9 8 8]\n",
            " [9 6 4 8 6 5 4 6 7 8]\n",
            " [9 2 3 2 1 8 6 5 2 8]\n",
            " [3 4 1 4 2 4 1 7 5 7]\n",
            " [1 1 8 1 5 4 3 3 8 3]\n",
            " [3 3 1 3 5 1 9 8 8 2]\n",
            " [9 7 7 4 1 5 4 2 3 4]\n",
            " [8 8 8 8 5 2 4 6 2 7]]\n",
            "Min:  1\n",
            "Max:  9\n"
          ]
        }
      ]
    },
    {
      "cell_type": "markdown",
      "source": [
        "###6. Create a zero array of size 10 and replace 5th element with 1"
      ],
      "metadata": {
        "id": "WtMi6wc54WZb"
      }
    },
    {
      "cell_type": "code",
      "source": [
        "array = np.zeros(10, dtype=int)\n",
        "print(array)\n",
        "array[4] = 1\n",
        "print(array)"
      ],
      "metadata": {
        "colab": {
          "base_uri": "https://localhost:8080/"
        },
        "id": "T6xfd6br4asL",
        "outputId": "463d90db-6bdc-4c5d-b9a8-2e3caccda4a0"
      },
      "execution_count": 40,
      "outputs": [
        {
          "output_type": "stream",
          "name": "stdout",
          "text": [
            "[0 0 0 0 0 0 0 0 0 0]\n",
            "[0 0 0 0 1 0 0 0 0 0]\n"
          ]
        }
      ]
    },
    {
      "cell_type": "markdown",
      "source": [
        "###7. Reverse an array"
      ],
      "metadata": {
        "id": "QyWBuLHC4xIe"
      }
    },
    {
      "cell_type": "code",
      "source": [
        "array = [1 , 2, 3, 4, 5, 6]\n",
        "rev_arr = array[::-1]\n",
        "rev_arr"
      ],
      "metadata": {
        "colab": {
          "base_uri": "https://localhost:8080/"
        },
        "id": "a08igI7B71NR",
        "outputId": "875a38d3-8ff9-49ca-e820-55e16ade1a92"
      },
      "execution_count": 41,
      "outputs": [
        {
          "output_type": "execute_result",
          "data": {
            "text/plain": [
              "[6, 5, 4, 3, 2, 1]"
            ]
          },
          "metadata": {},
          "execution_count": 41
        }
      ]
    },
    {
      "cell_type": "markdown",
      "source": [
        "###8. Create a 2d array with 1 on border and 0 inside"
      ],
      "metadata": {
        "id": "I0dQpnBk8F5m"
      }
    },
    {
      "cell_type": "code",
      "source": [
        "arr = np.random.randint(1, 10, (7, 7))\n",
        "\n",
        "# arr = np.zeros_like(arr)\n",
        "arr[[0, -1], :] = arr[:, [0, -1]] = 1\n",
        "\n",
        "\n",
        "arr[0:-1, 1:-1] = 0\n",
        "\n",
        "arr"
      ],
      "metadata": {
        "colab": {
          "base_uri": "https://localhost:8080/"
        },
        "id": "_quSK1qs8Lrs",
        "outputId": "08c26373-cc2f-4382-89a0-e4a03d2a7d08"
      },
      "execution_count": 42,
      "outputs": [
        {
          "output_type": "execute_result",
          "data": {
            "text/plain": [
              "array([[1, 0, 0, 0, 0, 0, 1],\n",
              "       [1, 0, 0, 0, 0, 0, 1],\n",
              "       [1, 0, 0, 0, 0, 0, 1],\n",
              "       [1, 0, 0, 0, 0, 0, 1],\n",
              "       [1, 0, 0, 0, 0, 0, 1],\n",
              "       [1, 0, 0, 0, 0, 0, 1],\n",
              "       [1, 1, 1, 1, 1, 1, 1]])"
            ]
          },
          "metadata": {},
          "execution_count": 42
        }
      ]
    },
    {
      "cell_type": "markdown",
      "source": [
        "###9. Create a 8X8 matrix and fill it with a checkerboard pattern"
      ],
      "metadata": {
        "id": "wh0jVCsHBmgY"
      }
    },
    {
      "cell_type": "code",
      "source": [
        "array = np.zeros((9, 9), dtype=int)\n",
        "\n",
        "array[1::2, 0::2] = 1\n",
        "array[::2, 1::2] = 1\n",
        "array"
      ],
      "metadata": {
        "colab": {
          "base_uri": "https://localhost:8080/"
        },
        "id": "sBIudlc6CHaM",
        "outputId": "181c5a91-66a2-41fe-afc8-e8e36f12cc36"
      },
      "execution_count": 43,
      "outputs": [
        {
          "output_type": "execute_result",
          "data": {
            "text/plain": [
              "array([[0, 1, 0, 1, 0, 1, 0, 1, 0],\n",
              "       [1, 0, 1, 0, 1, 0, 1, 0, 1],\n",
              "       [0, 1, 0, 1, 0, 1, 0, 1, 0],\n",
              "       [1, 0, 1, 0, 1, 0, 1, 0, 1],\n",
              "       [0, 1, 0, 1, 0, 1, 0, 1, 0],\n",
              "       [1, 0, 1, 0, 1, 0, 1, 0, 1],\n",
              "       [0, 1, 0, 1, 0, 1, 0, 1, 0],\n",
              "       [1, 0, 1, 0, 1, 0, 1, 0, 1],\n",
              "       [0, 1, 0, 1, 0, 1, 0, 1, 0]])"
            ]
          },
          "metadata": {},
          "execution_count": 43
        }
      ]
    },
    {
      "cell_type": "markdown",
      "source": [
        "##Problem - 3: Array Operations"
      ],
      "metadata": {
        "id": "08ArRNw3WRRK"
      }
    },
    {
      "cell_type": "code",
      "source": [
        "x = np.array([[1, 2], [3, 5]])\n",
        "y = np.array([[5, 6], [7, 8]])\n",
        "v = np.array([9, 10])\n",
        "w = np.array([11, 12])"
      ],
      "metadata": {
        "id": "kopYagIcWT5T"
      },
      "execution_count": 44,
      "outputs": []
    },
    {
      "cell_type": "markdown",
      "source": [
        "###1. Add Arrays"
      ],
      "metadata": {
        "id": "Poa4jtH7hZoI"
      }
    },
    {
      "cell_type": "code",
      "source": [
        "sum = x + y\n",
        "sum1 = v + w\n",
        "print(sum)\n",
        "print()\n",
        "print(sum1)"
      ],
      "metadata": {
        "colab": {
          "base_uri": "https://localhost:8080/"
        },
        "id": "M_yKg4ITZppN",
        "outputId": "69df7f02-7d4e-4cde-9551-97e64ade39b4"
      },
      "execution_count": 45,
      "outputs": [
        {
          "output_type": "stream",
          "name": "stdout",
          "text": [
            "[[ 6  8]\n",
            " [10 13]]\n",
            "\n",
            "[20 22]\n"
          ]
        }
      ]
    },
    {
      "cell_type": "markdown",
      "source": [
        "###2. Subtract Arrays"
      ],
      "metadata": {
        "id": "CFsCnFnZhm-w"
      }
    },
    {
      "cell_type": "code",
      "source": [
        "sub = x - y\n",
        "sub1 = v - w\n",
        "print(sub)\n",
        "print()\n",
        "print(sub1)"
      ],
      "metadata": {
        "colab": {
          "base_uri": "https://localhost:8080/"
        },
        "id": "6q84oJhZhjph",
        "outputId": "65f816d5-22f2-4aad-cf2b-7583077888f5"
      },
      "execution_count": 46,
      "outputs": [
        {
          "output_type": "stream",
          "name": "stdout",
          "text": [
            "[[-4 -4]\n",
            " [-4 -3]]\n",
            "\n",
            "[-2 -2]\n"
          ]
        }
      ]
    },
    {
      "cell_type": "markdown",
      "source": [
        "###3. Multiply Array With Integer"
      ],
      "metadata": {
        "id": "ZhwWzHKSh0K-"
      }
    },
    {
      "cell_type": "code",
      "source": [
        "mulArr = 7 * x\n",
        "mulArr"
      ],
      "metadata": {
        "colab": {
          "base_uri": "https://localhost:8080/"
        },
        "id": "ayf4SeObh5pg",
        "outputId": "297428ee-5a04-4377-dc17-13aa678c714e"
      },
      "execution_count": 47,
      "outputs": [
        {
          "output_type": "execute_result",
          "data": {
            "text/plain": [
              "array([[ 7, 14],\n",
              "       [21, 35]])"
            ]
          },
          "metadata": {},
          "execution_count": 47
        }
      ]
    },
    {
      "cell_type": "markdown",
      "source": [
        "###4. Square of Each Element of Array"
      ],
      "metadata": {
        "id": "x3QmPXefiE4a"
      }
    },
    {
      "cell_type": "code",
      "source": [
        "powArr = x ** 2\n",
        "powArr"
      ],
      "metadata": {
        "colab": {
          "base_uri": "https://localhost:8080/"
        },
        "id": "alUtkSiUiIZp",
        "outputId": "6f12cb61-746d-4e5e-8c5d-04fc6385c84e"
      },
      "execution_count": 48,
      "outputs": [
        {
          "output_type": "execute_result",
          "data": {
            "text/plain": [
              "array([[ 1,  4],\n",
              "       [ 9, 25]])"
            ]
          },
          "metadata": {},
          "execution_count": 48
        }
      ]
    },
    {
      "cell_type": "markdown",
      "source": [
        "###5. Dot Product"
      ],
      "metadata": {
        "id": "F9-BU9j8iQQ5"
      }
    },
    {
      "cell_type": "code",
      "source": [
        "vDotw = np.dot(v, w)\n",
        "xDotv = np.dot(x, v)\n",
        "xDoty = np.dot(x, y)\n",
        "\n",
        "print(f\"V.W: {vDotw}\")\n",
        "print(f\"X.V: {xDotv}\")\n",
        "print(f\"X.Y: {xDoty}\")"
      ],
      "metadata": {
        "colab": {
          "base_uri": "https://localhost:8080/"
        },
        "id": "xmLoGkcaiTl2",
        "outputId": "2e2e897b-a0fb-4914-c29a-19b62d3c900d"
      },
      "execution_count": 49,
      "outputs": [
        {
          "output_type": "stream",
          "name": "stdout",
          "text": [
            "V.W: 219\n",
            "X.V: [29 77]\n",
            "X.Y: [[19 22]\n",
            " [50 58]]\n"
          ]
        }
      ]
    },
    {
      "cell_type": "markdown",
      "source": [
        "###6. Concatenate - 1"
      ],
      "metadata": {
        "id": "lIfvVtE3jN4i"
      }
    },
    {
      "cell_type": "code",
      "source": [
        "conxy = np.concatenate((x, y), axis = 0)\n",
        "convw = np.vstack((v, w))\n",
        "print(conxy)\n",
        "print()\n",
        "print(convw)"
      ],
      "metadata": {
        "colab": {
          "base_uri": "https://localhost:8080/"
        },
        "id": "b5a-KlsLixds",
        "outputId": "852f1c3c-1f94-46a5-b292-569e20ea57f6"
      },
      "execution_count": 50,
      "outputs": [
        {
          "output_type": "stream",
          "name": "stdout",
          "text": [
            "[[1 2]\n",
            " [3 5]\n",
            " [5 6]\n",
            " [7 8]]\n",
            "\n",
            "[[ 9 10]\n",
            " [11 12]]\n"
          ]
        }
      ]
    },
    {
      "cell_type": "markdown",
      "source": [
        "###7. Concatenate - 2 (Dimension Mismatch)"
      ],
      "metadata": {
        "id": "nOQMjHVolJk7"
      }
    },
    {
      "cell_type": "code",
      "source": [
        "conxv = np.concatenate((x, v), axis = 0)\n",
        "conxv\n",
        "##This cause error because the arrays should have the same number of dimensions\n",
        "#x is a 2D array where as v is a 1D array"
      ],
      "metadata": {
        "colab": {
          "base_uri": "https://localhost:8080/",
          "height": 193
        },
        "id": "ZWQBcb1Qklwz",
        "outputId": "ad6698c2-5f41-48b3-9281-0cd8069f9208"
      },
      "execution_count": 51,
      "outputs": [
        {
          "output_type": "error",
          "ename": "ValueError",
          "evalue": "all the input arrays must have same number of dimensions, but the array at index 0 has 2 dimension(s) and the array at index 1 has 1 dimension(s)",
          "traceback": [
            "\u001b[0;31m---------------------------------------------------------------------------\u001b[0m",
            "\u001b[0;31mValueError\u001b[0m                                Traceback (most recent call last)",
            "\u001b[0;32m<ipython-input-51-ee772db1a997>\u001b[0m in \u001b[0;36m<cell line: 0>\u001b[0;34m()\u001b[0m\n\u001b[0;32m----> 1\u001b[0;31m \u001b[0mconxv\u001b[0m \u001b[0;34m=\u001b[0m \u001b[0mnp\u001b[0m\u001b[0;34m.\u001b[0m\u001b[0mconcatenate\u001b[0m\u001b[0;34m(\u001b[0m\u001b[0;34m(\u001b[0m\u001b[0mx\u001b[0m\u001b[0;34m,\u001b[0m \u001b[0mv\u001b[0m\u001b[0;34m)\u001b[0m\u001b[0;34m,\u001b[0m \u001b[0maxis\u001b[0m \u001b[0;34m=\u001b[0m \u001b[0;36m0\u001b[0m\u001b[0;34m)\u001b[0m\u001b[0;34m\u001b[0m\u001b[0;34m\u001b[0m\u001b[0m\n\u001b[0m\u001b[1;32m      2\u001b[0m \u001b[0mconxv\u001b[0m\u001b[0;34m\u001b[0m\u001b[0;34m\u001b[0m\u001b[0m\n\u001b[1;32m      3\u001b[0m \u001b[0;31m##This cause error because the arrays should have the same number of dimensions\u001b[0m\u001b[0;34m\u001b[0m\u001b[0;34m\u001b[0m\u001b[0m\n\u001b[1;32m      4\u001b[0m \u001b[0;31m#x is a 2D array where as v is a 1D array\u001b[0m\u001b[0;34m\u001b[0m\u001b[0;34m\u001b[0m\u001b[0m\n",
            "\u001b[0;31mValueError\u001b[0m: all the input arrays must have same number of dimensions, but the array at index 0 has 2 dimension(s) and the array at index 1 has 1 dimension(s)"
          ]
        }
      ]
    },
    {
      "cell_type": "markdown",
      "source": [
        "##Problem - 4: Matrix Operations"
      ],
      "metadata": {
        "id": "oWh3SQf0lP0t"
      }
    },
    {
      "cell_type": "code",
      "source": [
        "A = np.array([[3, 4], [7, 8]])\n",
        "B = np.array([[5, 3], [2, 1]])"
      ],
      "metadata": {
        "id": "Y3ihJUwjktpV"
      },
      "execution_count": 53,
      "outputs": []
    },
    {
      "cell_type": "markdown",
      "source": [
        "###1. A.A^-1 = I"
      ],
      "metadata": {
        "id": "9kPjHj2Vm_OT"
      }
    },
    {
      "cell_type": "code",
      "source": [
        "A_Inverse = np.linalg.inv(A)\n",
        "proof = np.round(np.matmul(A, A_Inverse))\n",
        "proof"
      ],
      "metadata": {
        "colab": {
          "base_uri": "https://localhost:8080/"
        },
        "id": "gndPbgFsmhsl",
        "outputId": "811879c1-7790-493f-9173-ace065e813a2"
      },
      "execution_count": 56,
      "outputs": [
        {
          "output_type": "execute_result",
          "data": {
            "text/plain": [
              "array([[1., 0.],\n",
              "       [0., 1.]])"
            ]
          },
          "metadata": {},
          "execution_count": 56
        }
      ]
    },
    {
      "cell_type": "markdown",
      "source": [
        "###2. AB != BA"
      ],
      "metadata": {
        "id": "3GaDIdKqnHCg"
      }
    },
    {
      "cell_type": "code",
      "source": [
        "AB = np.matmul(A, B)\n",
        "BA = np.matmul(B, A)\n",
        "\n",
        "print(f\"AB:{AB} \\nBA:{BA}\")"
      ],
      "metadata": {
        "colab": {
          "base_uri": "https://localhost:8080/"
        },
        "id": "ui6GTLxEnKS-",
        "outputId": "624095b0-2209-4958-cda0-fd9d6c1746a0"
      },
      "execution_count": 57,
      "outputs": [
        {
          "output_type": "stream",
          "name": "stdout",
          "text": [
            "AB:[[23 13]\n",
            " [51 29]] \n",
            "BA:[[36 44]\n",
            " [13 16]]\n"
          ]
        }
      ]
    },
    {
      "cell_type": "markdown",
      "source": [
        "###3. (AB)T = BT.AT"
      ],
      "metadata": {
        "id": "AE_8AaRcnKpW"
      }
    },
    {
      "cell_type": "code",
      "source": [
        "AB = np.matmul(A, B)\n",
        "AB_T = AB.T\n",
        "B_T = B.T\n",
        "A_T = A.T\n",
        "B_T_Dot_A_T = np.matmul(B_T, A_T)\n",
        "\n",
        "print(f\"AB_T: {AB_T} \\n\\n B_T.A_T: {B_T_Dot_A_T}\")"
      ],
      "metadata": {
        "colab": {
          "base_uri": "https://localhost:8080/"
        },
        "id": "KkCsk7denRT6",
        "outputId": "1fd0bbf2-6248-4e94-ddff-31f4e8e70180"
      },
      "execution_count": 58,
      "outputs": [
        {
          "output_type": "stream",
          "name": "stdout",
          "text": [
            "AB_T: [[23 51]\n",
            " [13 29]] \n",
            "\n",
            " B_T.A_T: [[23 51]\n",
            " [13 29]]\n"
          ]
        }
      ]
    },
    {
      "cell_type": "markdown",
      "source": [
        "###Linear Equation Using Inverse Method"
      ],
      "metadata": {
        "id": "W-cNX-1tpmxB"
      }
    },
    {
      "cell_type": "code",
      "source": [
        "A = np.array([[2, -3, 1],\n",
        "              [1, -1, 2],\n",
        "              [3, 1,  -1]])\n",
        "B = np.array([-1, -3, 9])\n",
        "\n",
        "A_Inverse = np.linalg.inv(A)\n",
        "\n",
        "X = np.matmul(A_Inverse, B)\n",
        "\n",
        "print(f\"[x y z] = {X}\")"
      ],
      "metadata": {
        "colab": {
          "base_uri": "https://localhost:8080/"
        },
        "id": "7dQxuMsVpmdZ",
        "outputId": "a7ea8367-28fd-4c09-ffe5-223c14806d3c"
      },
      "execution_count": 59,
      "outputs": [
        {
          "output_type": "stream",
          "name": "stdout",
          "text": [
            "[x y z] = [ 2.  1. -2.]\n"
          ]
        }
      ]
    },
    {
      "cell_type": "markdown",
      "source": [
        "##Numpy Speed"
      ],
      "metadata": {
        "id": "PH8k30IUqonM"
      }
    },
    {
      "cell_type": "code",
      "source": [
        "import builtins\n",
        "\n",
        "size = 100000\n",
        "matrices = 100\n",
        "\n",
        "# Create Python lists and NumPy arrays\n",
        "py_list1 = list(range(size))\n",
        "py_list2 = list(range(size))\n",
        "np_array1 = np.arange(size)\n",
        "np_array2 = np.arange(size)\n",
        "\n",
        "# Function to time an operation\n",
        "def time_operation(operation, *args):\n",
        "    start_time = time.time()\n",
        "    operation(*args)\n",
        "    return time.time() - start_time\n",
        "\n",
        "# Function for Python list addition\n",
        "def py_addition(list1, list2):\n",
        "    result = []\n",
        "    for i in range(len(list1)):\n",
        "        result.append(list1[i] + list2[i])\n",
        "    return result\n",
        "\n",
        "# Function for Python list multiplication\n",
        "def py_multiplication(list1, list2):\n",
        "    result = []\n",
        "    for i in range(len(list1)):\n",
        "        result.append(list1[i] * list2[i])\n",
        "    return result\n",
        "\n",
        "# Function for Python list dot product\n",
        "def py_dot_product(list1, list2):\n",
        "    dot_product = 0\n",
        "    for i in range(len(list1)):\n",
        "        dot_product += list1[i] * list2[i]\n",
        "    return dot_product\n",
        "\n",
        "# Function for Python matrix multiplication\n",
        "def py_matrix_multiplication(matrix1, matrix2):\n",
        "    result = [[0 for _ in range(len(matrix2[0]))] for _ in range(len(matrix1))]\n",
        "    for i in range(len(matrix1)):\n",
        "        for j in range(len(matrix2[0])):\n",
        "            for k in range(len(matrix2)):\n",
        "                result[i][j] += matrix1[i][k] * matrix2[k][j]\n",
        "    return result\n",
        "\n",
        "# Perform operations and measure time\n",
        "operations = {\n",
        "    \"Addition\": (py_addition, np.add),\n",
        "    \"Multiplication\": (py_multiplication, np.multiply),\n",
        "    \"Dot Product\": (py_dot_product, np.dot),\n",
        "}\n",
        "\n",
        "for name, (py_op, np_op) in operations.items():\n",
        "    py_time = time_operation(py_op, py_list1, py_list2)\n",
        "    np_time = time_operation(np_op, np_array1, np_array2)\n",
        "    print(f\"{name} Time:\\nNumPy: {np_time:.5f}\\nPython List: {py_time:.5f}\\n\")\n",
        "\n",
        "# Matrix Multiplication\n",
        "py_matrix1 = [[j for j in range(matrices)] for i in range(matrices)]\n",
        "py_matrix2 = [[j for j in range(matrices)] for i in range(matrices)]\n",
        "np_matrix1 = np.arange(matrices**2).reshape(matrices, matrices)\n",
        "np_matrix2 = np.arange(matrices**2).reshape(matrices, matrices)\n",
        "\n",
        "py_mat_mul_time = time_operation(py_matrix_multiplication, py_matrix1, py_matrix2)\n",
        "np_mat_mul_time = time_operation(np.dot, np_matrix1, np_matrix2)\n",
        "\n",
        "print(f\"Matrix Multiplication Time:\\nNumPy: {np_mat_mul_time:.5f}\\nPython List: {py_mat_mul_time:.5f}\\n\")"
      ],
      "metadata": {
        "colab": {
          "base_uri": "https://localhost:8080/"
        },
        "id": "BS_JawrEqtE9",
        "outputId": "4d6d432e-1136-429d-a4ff-7ba5a1fb1ccd"
      },
      "execution_count": 60,
      "outputs": [
        {
          "output_type": "stream",
          "name": "stdout",
          "text": [
            "Addition Time:\n",
            "NumPy: 0.00018\n",
            "Python List: 0.00857\n",
            "\n",
            "Multiplication Time:\n",
            "NumPy: 0.00019\n",
            "Python List: 0.00806\n",
            "\n",
            "Dot Product Time:\n",
            "NumPy: 0.00017\n",
            "Python List: 0.00852\n",
            "\n",
            "Matrix Multiplication Time:\n",
            "NumPy: 0.00098\n",
            "Python List: 0.12101\n",
            "\n"
          ]
        }
      ]
    },
    {
      "cell_type": "markdown",
      "source": [
        "#4: TO DO\n",
        "## 4.1: Exercise on Function"
      ],
      "metadata": {
        "id": "Lquge7SSbhTp"
      }
    },
    {
      "cell_type": "markdown",
      "source": [
        "###Task 1: Program to convert different units of measurement\n"
      ],
      "metadata": {
        "id": "OCxckXwmdt1K"
      }
    },
    {
      "cell_type": "code",
      "source": [
        "def unit_converter(value, original_unit, target_unit):\n",
        "    \"\"\"Converts a value between different units of measurement (length, weight, volume).\n",
        "\n",
        "    Args:\n",
        "        value (float): The numeric value to convert.\n",
        "        original_unit (str): The unit to convert from (e.g., 'm', 'kg', 'l').\n",
        "        target_unit (str): The unit to convert to (e.g., 'ft', 'lbs', 'gal').\n",
        "\n",
        "    Returns:\n",
        "        float: The converted value.\n",
        "\n",
        "    Raises:\n",
        "        ValueError: If the conversion between the specified units is not supported.\n",
        "    \"\"\"\n",
        "    conversion_factors = {\n",
        "        ('m', 'ft'): 3.28084,\n",
        "        ('ft', 'm'): 1 / 3.28084,\n",
        "        ('kg', 'lbs'): 2.20462,\n",
        "        ('lbs', 'kg'): 1 / 2.20462,\n",
        "        ('l', 'gal'): 0.264172,\n",
        "        ('gal', 'l'): 1 / 0.264172\n",
        "    }\n",
        "\n",
        "    if (original_unit, target_unit) in conversion_factors:\n",
        "        return value * conversion_factors[(original_unit, target_unit)]\n",
        "    else:\n",
        "        raise ValueError(\"Unsupported conversion.\")\n",
        "\n",
        "\n",
        "\n",
        "# Get user input\n",
        "value = float(input(\"Enter the value to convert: \"))\n",
        "original_unit = input(\"Enter the original unit (e.g., m, kg, l): \")\n",
        "target_unit = input(\"Enter the target unit (e.g., ft, lbs, gal): \")\n",
        "\n",
        "# Perform conversion and display result\n",
        "try:\n",
        "    converted_value = unit_converter(value, original_unit, target_unit)\n",
        "    print(f\"{value} {original_unit} is equal to {converted_value:.2f} {target_unit}\")\n",
        "except ValueError as e:\n",
        "    print(e)"
      ],
      "metadata": {
        "colab": {
          "base_uri": "https://localhost:8080/"
        },
        "id": "XBavz6Yjc_bO",
        "outputId": "696d9b37-d68a-41b9-e445-72ddbdbb598f"
      },
      "execution_count": 61,
      "outputs": [
        {
          "output_type": "stream",
          "name": "stdout",
          "text": [
            "Enter the value to convert: 21\n",
            "Enter the original unit (e.g., m, kg, l): kg\n",
            "Enter the target unit (e.g., ft, lbs, gal): lbs\n",
            "21.0 kg is equal to 46.30 lbs\n"
          ]
        }
      ]
    },
    {
      "cell_type": "markdown",
      "source": [
        "###Task 2 : Program to Perform Various Math Operation"
      ],
      "metadata": {
        "id": "QsnxFcL2epZS"
      }
    },
    {
      "cell_type": "code",
      "source": [
        "def calculate_on_list(numbers, operation):\n",
        "    \"\"\"\n",
        "    Performs a mathematical operation on a list of numbers.\n",
        "\n",
        "    Parameters:\n",
        "    numbers (list): A list of numbers.\n",
        "    operation (str): The operation to perform ('sum', 'average', 'maximum', 'minimum').\n",
        "\n",
        "    Returns:\n",
        "    float: The result of the operation.\n",
        "    \"\"\"\n",
        "\n",
        "    if operation == 'sum':\n",
        "        return np.sum(numbers)\n",
        "    elif operation == 'average':\n",
        "        return np.mean(numbers)\n",
        "    elif operation == 'maximum':\n",
        "        return np.max(numbers)\n",
        "    elif operation == 'minimum':\n",
        "        return np.min(numbers)\n",
        "    else:\n",
        "        raise ValueError(\"Invalid operation. Choose from: 'sum', 'average', 'maximum', 'minimum'\")\n",
        "\n",
        "# Get user input and perform calculation\n",
        "while True:  # Loop for continuous input\n",
        "    print(\"\\nMathematical Operations on a List of Numbers\")\n",
        "    print(\"1. Find Sum\")\n",
        "    print(\"2. Find Average\")\n",
        "    print(\"3. Find Maximum\")\n",
        "    print(\"4. Find Minimum\")\n",
        "    print(\"5. Exit\")\n",
        "\n",
        "    try:\n",
        "        choice = input(\"Choose an operation (1/2/3/4/5): \")\n",
        "\n",
        "        if choice == '5':\n",
        "            break  # Exit the loop if the user chooses to exit\n",
        "\n",
        "        if choice not in ['1', '2', '3', '4']:\n",
        "            print(\"Invalid choice. Please choose 1, 2, 3, 4, or 5.\")\n",
        "            continue  # Go to the next iteration of the loop\n",
        "\n",
        "        numbers_input = input(\"Enter a list of numbers separated by spaces: \").strip()\n",
        "        if not numbers_input:\n",
        "            raise ValueError(\"No numbers entered. Please provide a valid list of numbers.\")\n",
        "\n",
        "        numbers = [float(num) for num in numbers_input.split()]\n",
        "        if len(numbers) == 0:\n",
        "            raise ValueError(\"The list is empty. Please enter at least one number.\")\n",
        "\n",
        "        # Map user choice to operation name\n",
        "        operation_mapping = {\n",
        "            '1': 'sum',\n",
        "            '2': 'average',\n",
        "            '3': 'maximum',\n",
        "            '4': 'minimum',\n",
        "        }\n",
        "        operation = operation_mapping[choice]\n",
        "\n",
        "        result = calculate_on_list(numbers, operation)\n",
        "        print(f\"Operation: {operation}\")\n",
        "        print(f\"Numbers entered: {numbers}\")\n",
        "        print(f\"The result is: {result}\")\n",
        "\n",
        "    except ValueError as ve:\n",
        "        print(f\"Error: {ve}\")\n",
        "    except Exception as e:\n",
        "        print(f\"Unexpected error: {e}\")"
      ],
      "metadata": {
        "colab": {
          "base_uri": "https://localhost:8080/"
        },
        "id": "gI-bc9FjewiX",
        "outputId": "ec720ec3-e9d8-4bbe-9ef8-4bb059927142"
      },
      "execution_count": 62,
      "outputs": [
        {
          "name": "stdout",
          "output_type": "stream",
          "text": [
            "\n",
            "Mathematical Operations on a List of Numbers\n",
            "1. Find Sum\n",
            "2. Find Average\n",
            "3. Find Maximum\n",
            "4. Find Minimum\n",
            "5. Exit\n",
            "Choose an operation (1/2/3/4/5): 4\n",
            "Enter a list of numbers separated by spaces: 4 3 5 7 2 1\n",
            "Operation: minimum\n",
            "Numbers entered: [4.0, 3.0, 5.0, 7.0, 2.0, 1.0]\n",
            "The result is: 1.0\n",
            "\n",
            "Mathematical Operations on a List of Numbers\n",
            "1. Find Sum\n",
            "2. Find Average\n",
            "3. Find Maximum\n",
            "4. Find Minimum\n",
            "5. Exit\n",
            "Choose an operation (1/2/3/4/5): 5\n"
          ]
        }
      ]
    },
    {
      "cell_type": "markdown",
      "source": [
        "# 4.2: Task on List Manipulation\n"
      ],
      "metadata": {
        "id": "WHjEmas9fMJd"
      }
    },
    {
      "cell_type": "markdown",
      "source": [
        "##Task 1"
      ],
      "metadata": {
        "id": "Q4wYfU8NfwzI"
      }
    },
    {
      "cell_type": "code",
      "source": [
        "def extract_every_other_element(data_list):\n",
        "    \"\"\"\n",
        "    Extracts every other element from a list, starting with the first element.\n",
        "\n",
        "    Args:\n",
        "        data_list: The input list.\n",
        "\n",
        "    Returns:\n",
        "        A new list containing every other element from the original list.\n",
        "    \"\"\"\n",
        "    return data_list[::2]\n",
        "\n",
        "# Get user input and perform extraction\n",
        "try:\n",
        "    user_input = input(\"Enter a list of numbers separated by spaces: \")\n",
        "    numbers = [int(num) for num in user_input.split()]\n",
        "\n",
        "    if not numbers:\n",
        "        raise ValueError(\"Input list cannot be empty.\")\n",
        "\n",
        "    result = extract_every_other_element(numbers)\n",
        "    print(\"Every other element:\", result)\n",
        "except ValueError as e:\n",
        "    print(f\"Error: {e}\")"
      ],
      "metadata": {
        "colab": {
          "base_uri": "https://localhost:8080/"
        },
        "id": "z4XeTT1JgAYh",
        "outputId": "2b533619-0d8d-4c4a-d8a3-37e4aafe78cb"
      },
      "execution_count": 63,
      "outputs": [
        {
          "output_type": "stream",
          "name": "stdout",
          "text": [
            "Enter a list of numbers separated by spaces: 1 2 3 4 5\n",
            "Every other element: [1, 3, 5]\n"
          ]
        }
      ]
    },
    {
      "cell_type": "markdown",
      "source": [
        "###Task 2"
      ],
      "metadata": {
        "id": "Ur4U7u2mgatn"
      }
    },
    {
      "cell_type": "code",
      "source": [
        "def get_sublist(data_list, start_index, end_index):\n",
        "    \"\"\"\n",
        "    Returns a sublist from the given list, starting from the 'start_index'\n",
        "    and ending at the 'end_index' (inclusive).\n",
        "\n",
        "    Args:\n",
        "        data_list: The list to slice.\n",
        "        start_index: The starting index (inclusive).\n",
        "        end_index: The ending index (inclusive).\n",
        "\n",
        "    Returns:\n",
        "        A sublist from the 'start_index' to 'end_index' indices.\n",
        "    \"\"\"\n",
        "    return data_list[start_index : end_index + 1]\n",
        "\n",
        "# Get user input and extract sublist\n",
        "try:\n",
        "    data_list = [1, 2, 3, 4, 5, 6]\n",
        "    start_index = int(input(\"Enter the start index: \"))\n",
        "    end_index = int(input(\"Enter the end index: \"))\n",
        "\n",
        "    sublist = get_sublist(data_list, start_index, end_index)\n",
        "    print(\"Sublist:\", sublist)\n",
        "\n",
        "except ValueError:\n",
        "    print(\"Invalid input. Please enter integer indices.\")\n",
        "except IndexError:\n",
        "    print(\"Index out of range. Please enter valid indices.\")"
      ],
      "metadata": {
        "colab": {
          "base_uri": "https://localhost:8080/"
        },
        "id": "D6SjTFpGgff2",
        "outputId": "2d2ef9af-ef62-4726-af98-a64c9f586e95"
      },
      "execution_count": 64,
      "outputs": [
        {
          "output_type": "stream",
          "name": "stdout",
          "text": [
            "Enter the start index: 3\n",
            "Enter the end index: 12\n",
            "Sublist: [4, 5, 6]\n"
          ]
        }
      ]
    },
    {
      "cell_type": "markdown",
      "source": [
        "###Task 3"
      ],
      "metadata": {
        "id": "_CKwAZFpgymZ"
      }
    },
    {
      "cell_type": "code",
      "source": [
        "def reverse_list(data_list):\n",
        "    \"\"\"\n",
        "    Reverses the given list using slicing.\n",
        "\n",
        "    Args:\n",
        "        data_list: The list to reverse.\n",
        "\n",
        "    Returns:\n",
        "        The reversed list.\n",
        "    \"\"\"\n",
        "    return data_list[::-1]  # Using slicing to reverse the list\n",
        "\n",
        "# Example usage:\n",
        "data_list = [1, 2, 3, 4, 5]\n",
        "reversed_list = reverse_list(data_list)\n",
        "print(\"Reversed list:\", reversed_list)"
      ],
      "metadata": {
        "colab": {
          "base_uri": "https://localhost:8080/"
        },
        "id": "VxVvTGlfg0wc",
        "outputId": "7f821239-ac1e-4b17-f654-2130ee6ae79b"
      },
      "execution_count": 66,
      "outputs": [
        {
          "output_type": "stream",
          "name": "stdout",
          "text": [
            "Reversed list: [5, 4, 3, 2, 1]\n"
          ]
        }
      ]
    },
    {
      "cell_type": "markdown",
      "source": [
        "###Task 4"
      ],
      "metadata": {
        "id": "33XeI4eQhAW5"
      }
    },
    {
      "cell_type": "code",
      "source": [
        "def remove_first_and_last(data_list):\n",
        "    \"\"\"\n",
        "    Removes the first and last elements of the list and returns the resulting sublist.\n",
        "\n",
        "    Args:\n",
        "        data_list: The list from which to remove the first and last elements.\n",
        "\n",
        "    Returns:\n",
        "        The sublist without the first and last elements.\n",
        "    \"\"\"\n",
        "    return data_list[1:-1]  # Slicing from the second element to the second-to-last element\n",
        "\n",
        "# Example usage:\n",
        "data_list = [1, 2, 3, 4, 5]\n",
        "result = remove_first_and_last(data_list)\n",
        "print(\"List without first and last elements:\", result)"
      ],
      "metadata": {
        "colab": {
          "base_uri": "https://localhost:8080/"
        },
        "id": "thqFCEVBg_8a",
        "outputId": "f1590307-8c33-40d0-b001-c67955741f87"
      },
      "execution_count": 67,
      "outputs": [
        {
          "output_type": "stream",
          "name": "stdout",
          "text": [
            "List without first and last elements: [2, 3, 4]\n"
          ]
        }
      ]
    },
    {
      "cell_type": "markdown",
      "source": [
        "###Task 5\n"
      ],
      "metadata": {
        "id": "ful-L9FhhNvU"
      }
    },
    {
      "cell_type": "code",
      "source": [
        "def get_first_n_elements(data_list, n):\n",
        "    \"\"\"\n",
        "    Extracts the first n elements from the list.\n",
        "\n",
        "    Args:\n",
        "        data_list: The input list.\n",
        "        n: The number of elements to extract.\n",
        "\n",
        "    Returns:\n",
        "        A new list containing the first n elements of the input list.\n",
        "    \"\"\"\n",
        "    return data_list[:n]  # Slicing the first n elements\n",
        "\n",
        "# Get user input and extract elements\n",
        "try:\n",
        "    user_input = input(\"Enter the list of numbers separated by spaces: \")\n",
        "    numbers = [int(x) for x in user_input.split()]\n",
        "    n = int(input(\"Enter the number of elements to extract from the start: \"))\n",
        "\n",
        "    first_n_elements = get_first_n_elements(numbers, n)\n",
        "    print(\"First\", n, \"elements:\", first_n_elements)\n",
        "\n",
        "except ValueError:\n",
        "    print(\"Invalid input. Please enter numbers only.\")\n",
        "except IndexError:\n",
        "    print(\"Index out of range. Please enter a valid number of elements.\")"
      ],
      "metadata": {
        "colab": {
          "base_uri": "https://localhost:8080/"
        },
        "id": "zHztOs0DhPg8",
        "outputId": "be5796f9-0342-458d-b8e8-475e4b869b97"
      },
      "execution_count": 70,
      "outputs": [
        {
          "output_type": "stream",
          "name": "stdout",
          "text": [
            "Enter the list of numbers separated by spaces: 1 2 3 4 5 6\n",
            "Enter the number of elements to extract from the start: 2\n",
            "First 2 elements: [1, 2]\n"
          ]
        }
      ]
    },
    {
      "cell_type": "markdown",
      "source": [
        "###Task 6"
      ],
      "metadata": {
        "id": "8dqnrtlnhjmH"
      }
    },
    {
      "cell_type": "code",
      "source": [
        "def get_last_n_elements(data_list, n):\n",
        "    \"\"\"\n",
        "    Extracts the last n elements from the list.\n",
        "\n",
        "    Args:\n",
        "        data_list: The input list.\n",
        "        n: The number of elements to extract from the end.\n",
        "\n",
        "    Returns:\n",
        "        A new list containing the last n elements of the input list.\n",
        "    \"\"\"\n",
        "    return data_list[-n:]  # Slicing the last n elements\n",
        "\n",
        "# Get user input and extract elements\n",
        "try:\n",
        "    user_input = input(\"Enter the list of numbers separated by spaces: \")\n",
        "    numbers = [int(x) for x in user_input.split()]\n",
        "    n = int(input(\"Enter the number of elements to extract from the end: \"))\n",
        "\n",
        "    last_n_elements = get_last_n_elements(numbers, n)\n",
        "    print(\"Last\", n, \"elements:\", last_n_elements)\n",
        "\n",
        "except ValueError:\n",
        "    print(\"Invalid input. Please enter numbers only.\")\n",
        "except IndexError:\n",
        "    print(\"Index out of range. Please enter a valid number of elements to extract.\")"
      ],
      "metadata": {
        "colab": {
          "base_uri": "https://localhost:8080/"
        },
        "id": "aHh0WLRrhZtn",
        "outputId": "3efdfcfb-e8f7-42f7-8e80-405cc346e39e"
      },
      "execution_count": 71,
      "outputs": [
        {
          "output_type": "stream",
          "name": "stdout",
          "text": [
            "Enter the list of numbers separated by spaces: 1 2 3 4 5 6 7\n",
            "Enter the number of elements to extract from the end: 3\n",
            "Last 3 elements: [5, 6, 7]\n"
          ]
        }
      ]
    },
    {
      "cell_type": "markdown",
      "source": [
        "###Task 7"
      ],
      "metadata": {
        "id": "xiEW8cmZh1I1"
      }
    },
    {
      "cell_type": "code",
      "source": [
        "def reverse_and_skip_elements(data_list):\n",
        "    \"\"\"\n",
        "    Extracts elements in reverse order starting from the second-to-last element,\n",
        "    skipping one element in between.\n",
        "\n",
        "    Args:\n",
        "        data_list: The input list.\n",
        "\n",
        "    Returns:\n",
        "        A new list containing the extracted elements.\n",
        "    \"\"\"\n",
        "    return data_list[-2::-2]  # Slicing to get every second element in reverse order\n",
        "\n",
        "# Get user input and extract elements\n",
        "try:\n",
        "    user_input = input(\"Enter the list of numbers separated by spaces: \")\n",
        "    numbers = [int(x) for x in user_input.split()]\n",
        "\n",
        "    extracted_elements = reverse_and_skip_elements(numbers)\n",
        "    print(\"Extracted elements:\", extracted_elements)\n",
        "\n",
        "except ValueError:\n",
        "    print(\"Invalid input. Please enter numbers only.\")"
      ],
      "metadata": {
        "colab": {
          "base_uri": "https://localhost:8080/"
        },
        "id": "yMM5AOVch3DR",
        "outputId": "3f3b8b92-1602-499a-cc74-cc55baa3815a"
      },
      "execution_count": 72,
      "outputs": [
        {
          "output_type": "stream",
          "name": "stdout",
          "text": [
            "Enter the list of numbers separated by spaces: 1 2 3 4 5 6 7\n",
            "Extracted elements: [6, 4, 2]\n"
          ]
        }
      ]
    },
    {
      "cell_type": "markdown",
      "source": [
        "##4.3: Exercise on Nested List"
      ],
      "metadata": {
        "id": "XbWN93xOiHFw"
      }
    },
    {
      "cell_type": "markdown",
      "source": [
        "###Task 1"
      ],
      "metadata": {
        "id": "QQ2xUyfLiQeB"
      }
    },
    {
      "cell_type": "code",
      "source": [
        "def flatten(lst):\n",
        "    \"\"\"\n",
        "    Flattens a nested list into a single list.\n",
        "\n",
        "    Args:\n",
        "        lst: The nested list to flatten.\n",
        "\n",
        "    Returns:\n",
        "        A new list containing all the elements of the nested list in a single dimension.\n",
        "    \"\"\"\n",
        "    flattened_list = []\n",
        "    for item in lst:\n",
        "        if isinstance(item, list):  # Check if the item is a list\n",
        "            flattened_list.extend(flatten(item))  # Recursively flatten sublists\n",
        "        else:\n",
        "            flattened_list.append(item)  # Add non-list items directly\n",
        "    return flattened_list\n",
        "\n",
        "# Example usage\n",
        "nested_list = [[1, 2], [3, 4], [5]]\n",
        "flattened_list = flatten(nested_list)\n",
        "print(\"Flattened list:\", flattened_list)"
      ],
      "metadata": {
        "colab": {
          "base_uri": "https://localhost:8080/"
        },
        "id": "fqnK0i7HiUvU",
        "outputId": "f5e10dc4-5535-4fcf-e60c-76d40ad12341"
      },
      "execution_count": 73,
      "outputs": [
        {
          "output_type": "stream",
          "name": "stdout",
          "text": [
            "Flattened list: [1, 2, 3, 4, 5]\n"
          ]
        }
      ]
    },
    {
      "cell_type": "markdown",
      "source": [
        "###Task 2\n"
      ],
      "metadata": {
        "id": "N1xGeaVjitAX"
      }
    },
    {
      "cell_type": "code",
      "source": [
        "def access_nested_element(lst, indices):\n",
        "    \"\"\"\n",
        "    Extracts a specific element from a nested list given its indices.\n",
        "\n",
        "    Args:\n",
        "        lst: The nested list.\n",
        "        indices: A list of indices representing the path to the element.\n",
        "\n",
        "    Returns:\n",
        "        The element at the specified position, or None if the path is invalid.\n",
        "    \"\"\"\n",
        "    current_element = lst\n",
        "    for index in indices:\n",
        "        try:\n",
        "            current_element = current_element[index]\n",
        "        except (IndexError, TypeError):  # Handle invalid indices or types\n",
        "            return None  # Return None for invalid paths\n",
        "    return current_element\n",
        "\n",
        "# Example usage\n",
        "lst = [[1, 2, 3], [4, 5, 6], [7, 8, 9]]\n",
        "indices = [1, 2]\n",
        "element = access_nested_element(lst, indices)\n",
        "print(\"Element at indices\", indices, \":\", element)  # Output: 6"
      ],
      "metadata": {
        "colab": {
          "base_uri": "https://localhost:8080/"
        },
        "id": "5_EOELpJiu15",
        "outputId": "47510b97-8abc-427d-c0d5-71efc6d8961d"
      },
      "execution_count": 74,
      "outputs": [
        {
          "output_type": "stream",
          "name": "stdout",
          "text": [
            "Element at indices [1, 2] : 6\n"
          ]
        }
      ]
    },
    {
      "cell_type": "markdown",
      "source": [
        "###Task 3"
      ],
      "metadata": {
        "id": "80FU1Etgi2ac"
      }
    },
    {
      "cell_type": "code",
      "source": [
        "def sum_nested(lst):\n",
        "    \"\"\"\n",
        "    Calculates the sum of all the numbers in a nested list (regardless of depth).\n",
        "\n",
        "    Args:\n",
        "        lst: The nested list.\n",
        "\n",
        "    Returns:\n",
        "        The sum of all the elements in the nested list.\n",
        "    \"\"\"\n",
        "    total_sum = 0\n",
        "    for item in lst:\n",
        "        if isinstance(item, list):\n",
        "            total_sum += sum_nested(item)  # Recursively sum sublists\n",
        "        elif isinstance(item, (int, float)):\n",
        "            total_sum += item  # Add numbers directly\n",
        "    return total_sum\n",
        "\n",
        "# Example usage\n",
        "nested_list = [[1, 2], [3, [4, 5]], 6]\n",
        "total_sum = sum_nested(nested_list)\n",
        "print(\"Sum of all elements:\", total_sum)  # Output: 21"
      ],
      "metadata": {
        "colab": {
          "base_uri": "https://localhost:8080/"
        },
        "id": "OynMdIVKi4Nr",
        "outputId": "2ade8ef3-9d7b-43bd-8390-ae358a3df827"
      },
      "execution_count": 75,
      "outputs": [
        {
          "output_type": "stream",
          "name": "stdout",
          "text": [
            "Sum of all elements: 21\n"
          ]
        }
      ]
    },
    {
      "cell_type": "markdown",
      "source": [
        "###Task 4\n"
      ],
      "metadata": {
        "id": "QVzOy1Q4jBn8"
      }
    },
    {
      "cell_type": "code",
      "source": [
        "def remove_element(lst, elem):\n",
        "    \"\"\"\n",
        "    Removes all occurrences of a specific element from a nested list.\n",
        "\n",
        "    Args:\n",
        "        lst: The nested list.\n",
        "        elem: The element to remove.\n",
        "\n",
        "    Returns:\n",
        "        The modified list with all occurrences of 'elem' removed.\n",
        "    \"\"\"\n",
        "    modified_list = []\n",
        "    for item in lst:\n",
        "        if isinstance(item, list):\n",
        "            # Recursively remove the element from sublists\n",
        "            sublist = remove_element(item, elem)\n",
        "            if sublist:  # Add sublist only if it's not empty\n",
        "                modified_list.append(sublist)\n",
        "        elif item != elem:\n",
        "            # Add the item if it's not the element to remove\n",
        "            modified_list.append(item)\n",
        "    return modified_list\n",
        "\n",
        "# Example usage\n",
        "lst = [[1, 2], [3, 2], [4, 5]]\n",
        "elem = 2\n",
        "modified_list = remove_element(lst, elem)\n",
        "print(\"Modified list:\", modified_list)  # Output: [[1], [3], [4, 5]]"
      ],
      "metadata": {
        "colab": {
          "base_uri": "https://localhost:8080/"
        },
        "id": "hBkv9g2hjDr7",
        "outputId": "2e6c1fb6-0159-4f84-a31d-142fd979547c"
      },
      "execution_count": 76,
      "outputs": [
        {
          "output_type": "stream",
          "name": "stdout",
          "text": [
            "Modified list: [[1], [3], [4, 5]]\n"
          ]
        }
      ]
    },
    {
      "cell_type": "markdown",
      "source": [
        "###Task 5"
      ],
      "metadata": {
        "id": "elt0rS7ajMmi"
      }
    },
    {
      "cell_type": "code",
      "source": [
        "def find_max(lst):\n",
        "    \"\"\"\n",
        "    Finds the maximum element in a nested list (regardless of depth).\n",
        "\n",
        "    Args:\n",
        "        lst: The nested list.\n",
        "\n",
        "    Returns:\n",
        "        The maximum element in the nested list.\n",
        "    \"\"\"\n",
        "    maximum_element = float('-inf')  # Initialize with negative infinity\n",
        "\n",
        "    for item in lst:\n",
        "        if isinstance(item, list):\n",
        "            # Recursively find the maximum in sublists\n",
        "            max_in_sublist = find_max(item)\n",
        "            # Check if we should use built-in max or numpy's\n",
        "            maximum_element = (\n",
        "                max(maximum_element, max_in_sublist)\n",
        "                if callable(max) and not isinstance(max_in_sublist, np.ndarray)\n",
        "                else np.max([maximum_element, max_in_sublist])\n",
        "            )\n",
        "        elif isinstance(item, (int, float)):\n",
        "            # Update maximum_element if current item is larger\n",
        "            # Check if we should use built-in max or numpy's\n",
        "            maximum_element = (\n",
        "                max(maximum_element, item)\n",
        "                if callable(max) and not isinstance(item, np.ndarray)\n",
        "                else np.max([maximum_element, item])\n",
        "            )\n",
        "\n",
        "    return maximum_element\n",
        "\n",
        "# Example usage\n",
        "nested_list = [[1, 2], [3, [4, 5]], 6]\n",
        "max_element = find_max(nested_list)\n",
        "print(\"Maximum element:\", max_element)  # Output: 6"
      ],
      "metadata": {
        "colab": {
          "base_uri": "https://localhost:8080/"
        },
        "id": "_Da5yRmAjOTq",
        "outputId": "846d47ea-a4c2-4415-aadf-1d47e230ec35"
      },
      "execution_count": 79,
      "outputs": [
        {
          "output_type": "stream",
          "name": "stdout",
          "text": [
            "Maximum element: 6.0\n"
          ]
        }
      ]
    },
    {
      "cell_type": "markdown",
      "source": [
        "###Task 6"
      ],
      "metadata": {
        "id": "To8et6NokBEq"
      }
    },
    {
      "cell_type": "code",
      "source": [
        "def count_occurrences(lst, elem):\n",
        "    \"\"\"\n",
        "    Counts how many times a specific element appears in a nested list.\n",
        "\n",
        "    Args:\n",
        "        lst: The nested list.\n",
        "        elem: The element to count occurrences of.\n",
        "\n",
        "    Returns:\n",
        "        The number of times 'elem' appears in the nested list.\n",
        "    \"\"\"\n",
        "    count = 0\n",
        "    for item in lst:\n",
        "        if isinstance(item, list):\n",
        "            count += count_occurrences(item, elem)  # Recursively count in sublists\n",
        "        elif item == elem:\n",
        "            count += 1  # Increment count if element is found\n",
        "    return count\n",
        "\n",
        "# Example usage\n",
        "lst = [[1, 2], [2, 3], [2, 4]]\n",
        "elem = 2\n",
        "occurrences = count_occurrences(lst, elem)\n",
        "print(\"Occurrences of\", elem, \":\", occurrences)  # Output: 3"
      ],
      "metadata": {
        "colab": {
          "base_uri": "https://localhost:8080/"
        },
        "id": "d67HUawbkCiz",
        "outputId": "62f5b847-2f6f-4f64-f1f9-cf63a60fa099"
      },
      "execution_count": 80,
      "outputs": [
        {
          "output_type": "stream",
          "name": "stdout",
          "text": [
            "Occurrences of 2 : 3\n"
          ]
        }
      ]
    },
    {
      "cell_type": "markdown",
      "source": [
        "###Task 7"
      ],
      "metadata": {
        "id": "fmmDA7nikMlo"
      }
    },
    {
      "cell_type": "code",
      "source": [
        "def deep_flatten(lst):\n",
        "    \"\"\"\n",
        "    Flattens a deeply nested list into a single list, regardless of the depth.\n",
        "\n",
        "    Args:\n",
        "        lst: The deeply nested list to flatten.\n",
        "\n",
        "    Returns:\n",
        "        A single flattened list containing all the elements.\n",
        "    \"\"\"\n",
        "    flat_list = []\n",
        "    for item in lst:\n",
        "        if isinstance(item, list):\n",
        "            # If it's a list, recursively flatten it\n",
        "            flat_list.extend(deep_flatten(item))\n",
        "        else:\n",
        "            # Otherwise, append the item to the flat list\n",
        "            flat_list.append(item)\n",
        "    return flat_list\n",
        "\n",
        "# Example usage:\n",
        "nested_list = [[[1, 2], [3, 4]], [[5, 6], [7, 8]]]\n",
        "flattened_list = deep_flatten(nested_list)\n",
        "print(\"Flattened list:\", flattened_list)  # Output: [1, 2, 3, 4, 5, 6, 7, 8]"
      ],
      "metadata": {
        "colab": {
          "base_uri": "https://localhost:8080/"
        },
        "id": "JX-qI-0MkOtD",
        "outputId": "b41beae5-125e-4dfb-ff70-10345b161e65"
      },
      "execution_count": 81,
      "outputs": [
        {
          "output_type": "stream",
          "name": "stdout",
          "text": [
            "Flattened list: [1, 2, 3, 4, 5, 6, 7, 8]\n"
          ]
        }
      ]
    },
    {
      "cell_type": "markdown",
      "source": [
        "###Task 8"
      ],
      "metadata": {
        "id": "KcDqhYKfkcru"
      }
    },
    {
      "cell_type": "code",
      "source": [
        "import builtins  # Import builtins module\n",
        "\n",
        "def average_nested(lst):\n",
        "    \"\"\"\n",
        "    Calculates the average of all elements in a nested list.\n",
        "\n",
        "    Args:\n",
        "        lst: The nested list.\n",
        "\n",
        "    Returns:\n",
        "        The average of all the elements in the nested list.\n",
        "    \"\"\"\n",
        "\n",
        "    def deep_flatten(lst):\n",
        "        \"\"\"Helper function to flatten the nested list.\"\"\"\n",
        "        flat_list = []\n",
        "        for item in lst:\n",
        "            if isinstance(item, list):\n",
        "                flat_list.extend(deep_flatten(item))\n",
        "            elif isinstance(item, (int, float)):  # Include floats\n",
        "                flat_list.append(item)\n",
        "        return flat_list\n",
        "\n",
        "    flattened_list = deep_flatten(lst)\n",
        "    if flattened_list:\n",
        "        return builtins.sum(flattened_list) / len(flattened_list)  # Use builtins.sum\n",
        "    else:\n",
        "        return 0  # Handle empty list case\n",
        "\n",
        "# Example usage:\n",
        "nested_list = [[1, 2], [3, 4], [5, 6]]\n",
        "average = average_nested(nested_list)\n",
        "print(\"Average:\", average)  # Output: 3.5"
      ],
      "metadata": {
        "colab": {
          "base_uri": "https://localhost:8080/"
        },
        "id": "5tsSloeskd2h",
        "outputId": "e8c071b9-c4c0-4fcc-bfad-f9e9590105c0"
      },
      "execution_count": 83,
      "outputs": [
        {
          "output_type": "stream",
          "name": "stdout",
          "text": [
            "Average: 3.5\n"
          ]
        }
      ]
    }
  ]
}